{
  "nbformat": 4,
  "nbformat_minor": 0,
  "metadata": {
    "colab": {
      "provenance": [],
      "authorship_tag": "ABX9TyOBsrh+RUmfdrJdkaS6u6f2",
      "include_colab_link": true
    },
    "kernelspec": {
      "name": "python3",
      "display_name": "Python 3"
    },
    "language_info": {
      "name": "python"
    }
  },
  "cells": [
    {
      "cell_type": "markdown",
      "metadata": {
        "id": "view-in-github",
        "colab_type": "text"
      },
      "source": [
        "<a href=\"https://colab.research.google.com/github/sovank/learn-linux/blob/main/Day_90_Network_Devices_and_Hardware.ipynb\" target=\"_parent\"><img src=\"https://colab.research.google.com/assets/colab-badge.svg\" alt=\"Open In Colab\"/></a>"
      ]
    },
    {
      "cell_type": "markdown",
      "source": [
        "Raw Problem\n",
        "**Raw Problem**\n",
        "Problem Description: Configuring iptables for Web Server Security\n",
        "Objective: Secure a web server by implementing precise iptables rules that manage web traffic and ICMP requests, ensuring controlled accessibility and robust security.\n",
        "\n",
        "NOTE: Password for sudo is user@123!"
      ],
      "metadata": {
        "id": "dl6FgJWWIJfp"
      }
    },
    {
      "cell_type": "markdown",
      "source": [
        "\n",
        "\n",
        "---\n",
        "\n"
      ],
      "metadata": {
        "id": "n9o7sWH9JeF4"
      }
    },
    {
      "cell_type": "markdown",
      "source": [
        "**TASK-1**\n",
        "\n",
        "Verify and Install iptables:\n",
        "\n",
        "Install iptables in your Linux based environment to manage firewall settings."
      ],
      "metadata": {
        "id": "9T5BpnFBJe_q"
      }
    },
    {
      "cell_type": "code",
      "source": [
        "# to verify just type iptables and press enter\n",
        "# type -> iptables\n",
        "# if it is not installed it will show -> bash: /usr/sbin/iptables: No such file or directory\n",
        "\n",
        "sudo apt install -y iptables"
      ],
      "metadata": {
        "id": "9lEMW6w7JDEj"
      },
      "execution_count": null,
      "outputs": []
    },
    {
      "cell_type": "markdown",
      "source": [
        "\n",
        "\n",
        "---\n",
        "\n"
      ],
      "metadata": {
        "id": "GHUaTDf5JgHx"
      }
    },
    {
      "cell_type": "markdown",
      "source": [
        "**TASK-2**\n",
        "\n",
        "Set Default Policies for Network Traffic:\n",
        "\n",
        "Establish secure default policies by setting the INPUT and FORWARD chains to DROP all traffic and the OUTPUT chain to ACCEPT.\n",
        "\n",
        "NOTE: Use this command before attempting this task otherwise your lab connection will close.\n",
        "\n",
        "sudo iptables -A INPUT -m conntrack --ctstate ESTABLISHED,RELATED -j ACCEPT"
      ],
      "metadata": {
        "id": "QK8Yto9xJn9q"
      }
    },
    {
      "cell_type": "code",
      "source": [
        "sudo iptables -A INPUT -m conntrack --ctstate ESTABLISHED,RELATED -j ACCEPT # as per the instructions\n",
        "sudo iptables -P INPUT DROP\n",
        "sudo iptables -P FORWARD DROP\n",
        "sudo iptables -P OUTPUT ACCEPT"
      ],
      "metadata": {
        "id": "QPQXPKj4Jgk2"
      },
      "execution_count": null,
      "outputs": []
    },
    {
      "cell_type": "markdown",
      "source": [
        "\n",
        "\n",
        "---\n",
        "\n"
      ],
      "metadata": {
        "id": "DWw00eS8Kv_e"
      }
    },
    {
      "cell_type": "markdown",
      "source": [
        "**TASK-3**\n",
        "\n",
        "Configure Rules for Essential Web Traffic:\n",
        "Enable HTTP and HTTPS by allowing traffic on ports 80 and 443, ensuring the web server remains accessible to users."
      ],
      "metadata": {
        "id": "ksMe7L-AKw07"
      }
    },
    {
      "cell_type": "code",
      "source": [
        "sudo iptables -A INPUT -p tcp --dport 80 -j ACCEPT  # for http\n",
        "sudo iptables -A INPUT -p tcp --dport 443 -j ACCEPT # for https"
      ],
      "metadata": {
        "id": "4eHhvB8aKwVY"
      },
      "execution_count": null,
      "outputs": []
    },
    {
      "cell_type": "markdown",
      "source": [
        "\n",
        "\n",
        "---\n",
        "\n"
      ],
      "metadata": {
        "id": "lAeZlLLTG9cx"
      }
    },
    {
      "cell_type": "markdown",
      "source": [
        "**TASK-4**\n",
        "\n",
        "Manage ICMP Traffic:\n",
        "\n",
        "Add a rule to block all incoming ICMP requests to protect against network scanning."
      ],
      "metadata": {
        "id": "ms7REGsZG-hS"
      }
    },
    {
      "cell_type": "code",
      "source": [
        "sudo iptables -A INPUT -p icmp -j DROP"
      ],
      "metadata": {
        "id": "A0BtPgejG93E"
      },
      "execution_count": null,
      "outputs": []
    }
  ]
}