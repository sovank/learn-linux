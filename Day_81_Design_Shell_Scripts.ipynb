{
  "nbformat": 4,
  "nbformat_minor": 0,
  "metadata": {
    "colab": {
      "provenance": [],
      "authorship_tag": "ABX9TyMZehI1rPQFvsVl4THTLWt9",
      "include_colab_link": true
    },
    "kernelspec": {
      "name": "python3",
      "display_name": "Python 3"
    },
    "language_info": {
      "name": "python"
    }
  },
  "cells": [
    {
      "cell_type": "markdown",
      "metadata": {
        "id": "view-in-github",
        "colab_type": "text"
      },
      "source": [
        "<a href=\"https://colab.research.google.com/github/sovank/learn-linux/blob/main/Day_81_Design_Shell_Scripts.ipynb\" target=\"_parent\"><img src=\"https://colab.research.google.com/assets/colab-badge.svg\" alt=\"Open In Colab\"/></a>"
      ]
    },
    {
      "cell_type": "markdown",
      "source": [
        "# Q8. DevOps Class - 7 Assignment - 1"
      ],
      "metadata": {
        "id": "v-vraF65HPl2"
      }
    },
    {
      "cell_type": "markdown",
      "source": [
        "**Objective**\n",
        "\n",
        "In the script file calculate_area.sh already present on path /home/user write a script that calculates the area of various geometric shapes based on user input. The script should support multiple interaction modes, including a help menu, interactive input, and command-line arguments.\n",
        "\n",
        "\n",
        "**NOTE**: In this assignment you might *require usage of bc library*. The bc command in Unix/Linux is an arbitrary precision calculator language that supports interactive execution of mathematical expressions. It is often used for performing high-precision arithmetic operations and evaluating complex expressions from the command line.\n"
      ],
      "metadata": {
        "id": "QssZ6tIAHWHl"
      }
    },
    {
      "cell_type": "markdown",
      "source": [
        "\n",
        "\n",
        "---\n",
        "\n"
      ],
      "metadata": {
        "id": "kgh3iReXHhOA"
      }
    },
    {
      "cell_type": "markdown",
      "source": [
        "TASK - 1:\n",
        "\n",
        "Help Flag (-h)\n",
        "\n",
        "When the script is run with the -h flag, it should display a help message detailing the types of areas it can calculate. Example areas include circles, squares, and rectangles.\n",
        "\n",
        "INPUT:\n",
        "\n",
        "./calculate_area.sh -h\n",
        "\n",
        "OUTPUT:\n",
        "\n",
        "Usage: ./calculate_area.sh [option] [shape] [dimension1] [dimension2]\n",
        "\n",
        "Calculate the area of various geometric shapes.\n",
        "\n",
        "Options:\n",
        "-h Display this help message.\n",
        "-i Interactive mode.\n",
        "\n",
        "Shapes and dimensions:\n",
        "circle radius Calculate the area of a circle.\n",
        "square side Calculate the area of a square.\n",
        "rectangle length width Calculate the area of a rectangle.\n",
        "\n",
        "NOTE: Your script help flag should exactly match the above output, including the blank spaces."
      ],
      "metadata": {
        "id": "OKIr1qZRHiCY"
      }
    },
    {
      "cell_type": "code",
      "execution_count": 1,
      "metadata": {
        "id": "LFbM8G2xHLWR"
      },
      "outputs": [],
      "source": [
        "# #!/bin/bash\n",
        "\n",
        "# #function to display help\n",
        "# display_help()\n",
        "# {\n",
        "#         echo \"Usage: ./calculate_area.sh [option] [shape] [dimension1] [dimension2]\"\n",
        "#         echo\n",
        "#         echo \"Calculate the area of various geometric shapes.\"\n",
        "#         echo\n",
        "#         echo \"Options:\"\n",
        "#         echo \" -h       Display this help message.\"\n",
        "#         echo \" -i       Interactive mode.\"\n",
        "#         echo \"Shapes and dimensions:\"\n",
        "#         echo \" circle radius    Calculate the area of a circle.\"\n",
        "#         echo \" square side      Calculate the area of a square.\"\n",
        "#         echo \" rectangle length width   Calculate the area of a rectangle.\"\n",
        "# }\n",
        "\n",
        "\n",
        "# # checks whether the number of arguments passed to the script is zero, and if so, it calls the display_help\n",
        "# # $#-> special shell variable represents the number of arguments passed to the script.\n",
        "# if [ $# -eq 0 ]; then\n",
        "#         display_help\n",
        "#         exit 1\n",
        "# fi\n",
        "\n",
        "\n",
        "# # while getopts loop is used to handle command-line options (flags) for a script\n",
        "# # getopts is a built-in command used to parse command-line options.\n",
        "# # \"h\" specifies that the script expects an -h option (short for help in this case).\n",
        "# # opt is the variable that will store the current option being processed.\n",
        "# # The while loop iterates over all the options passed to the script.\n",
        "# while getopts \"h\" opt; do\n",
        "#         case $opt in\n",
        "#                 h)\n",
        "#                         display_help\n",
        "#                         exit 0\n",
        "#                         ;;\n",
        "#                 *)\n",
        "#                         display_help\n",
        "#                         exit 1\n",
        "#                         ;;\n",
        "#         esac\n",
        "# done"
      ]
    },
    {
      "cell_type": "code",
      "source": [],
      "metadata": {
        "id": "dVnmPxxAHOGZ"
      },
      "execution_count": null,
      "outputs": []
    }
  ]
}