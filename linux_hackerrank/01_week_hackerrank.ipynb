{
  "cells": [
    {
      "cell_type": "markdown",
      "metadata": {
        "colab_type": "text",
        "id": "view-in-github"
      },
      "source": [
        "<a href=\"https://colab.research.google.com/github/sovank/learn-linux/blob/main/01_week_hackerrank.ipynb\" target=\"_parent\"><img src=\"https://colab.research.google.com/assets/colab-badge.svg\" alt=\"Open In Colab\"/></a>"
      ]
    },
    {
      "cell_type": "markdown",
      "metadata": {
        "id": "FAmELkFT1PSC"
      },
      "source": [
        "# 1"
      ]
    },
    {
      "cell_type": "markdown",
      "metadata": {
        "id": "UkGdvIoN0ivT"
      },
      "source": [
        "Write a bash script that prints the string \"HELLO\".\n",
        "\n",
        "Input Format\n",
        "\n",
        "There is no input file required for this problem.\n",
        "\n",
        "Output Format\n",
        "\n",
        "HELLO\n",
        "\n",
        "Sample Input\n",
        "\n",
        "-\n",
        "\n",
        "Sample Output\n",
        "\n",
        "HELLO\n",
        "\n",
        "Explanation"
      ]
    },
    {
      "cell_type": "code",
      "execution_count": null,
      "metadata": {
        "id": "FLxFE99W0d6T"
      },
      "outputs": [],
      "source": [
        "#!/bin/bash\n",
        "\n",
        "echo \"HELLO\""
      ]
    },
    {
      "cell_type": "markdown",
      "metadata": {
        "id": "VdLCM3FP1LlS"
      },
      "source": [
        "\n",
        "\n",
        "---\n",
        "\n"
      ]
    },
    {
      "cell_type": "markdown",
      "metadata": {
        "id": "Ef8nn8Bl1M_y"
      },
      "source": [
        "# 2"
      ]
    },
    {
      "cell_type": "markdown",
      "metadata": {
        "id": "N4AmgFB71RNi"
      },
      "source": [
        "Your task is to use for loops to display only odd natural numbers from  to .\n",
        "\n",
        "Input Format\n",
        "\n",
        "There is no input.\n",
        "\n",
        "Constraints\n",
        "\n",
        "-\n",
        "\n",
        "Output Format\n",
        "\n",
        "1\n",
        "3\n",
        "5\n",
        ".\n",
        ".\n",
        ".\n",
        ".\n",
        ".\n",
        "99  \n",
        "Sample Input\n",
        "\n",
        "-\n",
        "\n",
        "Sample Output\n",
        "\n",
        "1\n",
        "3\n",
        "5\n",
        ".\n",
        ".\n",
        ".\n",
        ".\n",
        ".\n",
        "99  \n",
        "Explanation\n",
        "\n",
        "-"
      ]
    },
    {
      "cell_type": "code",
      "execution_count": null,
      "metadata": {
        "id": "VXhxdS3m1MeY"
      },
      "outputs": [],
      "source": [
        "for num in {1..99}; do\n",
        "    if [ $((num % 2)) -ne 0 ]; then\n",
        "        echo \"$num\"\n",
        "    fi\n",
        "done"
      ]
    },
    {
      "cell_type": "markdown",
      "metadata": {
        "id": "9sD4SWSV1ZpZ"
      },
      "source": [
        "\n",
        "\n",
        "---\n",
        "\n"
      ]
    },
    {
      "cell_type": "markdown",
      "metadata": {
        "id": "LS09jlyX1aZK"
      },
      "source": [
        "# 3"
      ]
    },
    {
      "cell_type": "markdown",
      "metadata": {
        "id": "NIcxd6rS1lrK"
      },
      "source": [
        "Write a Bash script which accepts  as input and displays the greeting \"Welcome (name)\"\n",
        "\n",
        "Input Format\n",
        "\n",
        "There is one line of text, .\n",
        "\n",
        "Output Format\n",
        "\n",
        "One line: \"Welcome (name)\" (quotation marks excluded).\n",
        "The evaluation will be case-sensitive.\n",
        "\n",
        "Sample Input 0\n",
        "\n",
        "Dan  \n",
        "Sample Output 0\n",
        "\n",
        "Welcome Dan  \n",
        "Sample Input 1\n",
        "\n",
        "Prashant\n",
        "Sample Output 1\n",
        "\n",
        "Welcome Prashant"
      ]
    },
    {
      "cell_type": "code",
      "execution_count": null,
      "metadata": {
        "id": "8Rcwby401aAW"
      },
      "outputs": [],
      "source": [
        "#!/bin/bash\n",
        "\n",
        "read name\n",
        "echo \"Welcome $name\""
      ]
    },
    {
      "cell_type": "markdown",
      "metadata": {
        "id": "x3rBwQYD13ZK"
      },
      "source": [
        "\n",
        "\n",
        "---\n",
        "\n"
      ]
    },
    {
      "cell_type": "markdown",
      "metadata": {
        "id": "3g50y3q2149y"
      },
      "source": [
        "# 4"
      ]
    },
    {
      "cell_type": "markdown",
      "metadata": {
        "id": "2OZzX9nl2EXa"
      },
      "source": [
        "Use a for loop to display the natural numbers from  to .\n",
        "\n",
        "Input Format\n",
        "\n",
        "There is no input\n",
        "\n",
        "Output Format\n",
        "\n",
        "1\n",
        "2\n",
        "3\n",
        "4\n",
        "5\n",
        ".\n",
        ".\n",
        ".\n",
        ".\n",
        ".\n",
        "50"
      ]
    },
    {
      "cell_type": "code",
      "execution_count": null,
      "metadata": {
        "id": "IvYAGHR314e7"
      },
      "outputs": [],
      "source": [
        "#!/bin/bash\n",
        "\n",
        "for num in {1..50}; do\n",
        "    echo \"$num\"\n",
        "done"
      ]
    },
    {
      "cell_type": "markdown",
      "metadata": {
        "id": "qPvI6Op02VfR"
      },
      "source": [
        "\n",
        "\n",
        "---\n",
        "\n"
      ]
    },
    {
      "cell_type": "markdown",
      "metadata": {
        "id": "YNtSZqAf2X-x"
      },
      "source": [
        "# 5"
      ]
    },
    {
      "cell_type": "markdown",
      "metadata": {
        "id": "6hC1We3j2bXy"
      },
      "source": [
        "Given two integers,  and , find their sum, difference, product, and quotient.\n",
        "\n",
        "Input Format\n",
        "\n",
        "Two lines containing one integer each ( and , respectively).\n",
        "\n",
        "Constraints\n",
        "\n",
        "\n",
        "\n",
        "Output Format\n",
        "\n",
        "Four lines containing the sum (), difference (), product (), and quotient (), respectively.\n",
        "(While computing the quotient, print only the integer part.)\n",
        "\n",
        "Sample Input\n",
        "\n",
        "5\n",
        "2\n",
        "Sample Output\n",
        "\n",
        "7\n",
        "3\n",
        "10\n",
        "2\n",
        "Explanation\n",
        "\n",
        "5 + 2 = 7\n",
        "5 - 2 = 3\n",
        "5 * 2 = 10\n",
        "5 / 2 = 2 (Integer part)"
      ]
    },
    {
      "cell_type": "code",
      "execution_count": null,
      "metadata": {
        "id": "z-e_mL9x2WCI"
      },
      "outputs": [],
      "source": [
        "#!/bin/bash\n",
        "\n",
        "# reading the file is important\n",
        "read X\n",
        "read Y\n",
        "\n",
        "echo \"$((X + Y))\"\n",
        "echo \"$((X - Y))\"\n",
        "echo \"$((X * Y))\"\n",
        "if [ $((Y)) -ne 0 ]; then\n",
        "    echo \"$((X / Y))\"\n",
        "else\n",
        "    echo 0\n",
        "fi"
      ]
    }
  ],
  "metadata": {
    "colab": {
      "authorship_tag": "ABX9TyNfca3rXeuGcV26EfPQ7YdT",
      "include_colab_link": true,
      "provenance": []
    },
    "kernelspec": {
      "display_name": "Python 3",
      "name": "python3"
    },
    "language_info": {
      "name": "python"
    }
  },
  "nbformat": 4,
  "nbformat_minor": 0
}
