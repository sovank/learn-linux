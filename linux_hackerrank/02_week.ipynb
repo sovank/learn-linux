{
 "cells": [
  {
   "cell_type": "markdown",
   "metadata": {},
   "source": [
    "1"
   ]
  },
  {
   "cell_type": "markdown",
   "metadata": {},
   "source": [
    "Given two integers,  and , identify whether  or  or .\n",
    "\n",
    "Exactly one of the following lines:\n",
    "- X is less than Y\n",
    "- X is greater than Y\n",
    "- X is equal to Y\n",
    "\n",
    "Input Format\n",
    "\n",
    "Two lines containing one integer each ( and , respectively).\n",
    "\n",
    "Constraints\n",
    "\n",
    "-\n",
    "\n",
    "Output Format\n",
    "\n",
    "Exactly one of the following lines:\n",
    "- X is less than Y\n",
    "- X is greater than Y\n",
    "- X is equal to Y\n",
    "\n",
    "Sample Input\n",
    "\n",
    "Sample Input 1\n",
    "\n",
    "5  \n",
    "2  \n",
    "Sample Input 2\n",
    "\n",
    "2\n",
    "2  \n",
    "Sample Input 3\n",
    "\n",
    "2\n",
    "3  \n",
    "Sample Output\n",
    "\n",
    "Sample Output 1\n",
    "\n",
    "X is greater than Y  \n",
    "Sample Output 2\n",
    "\n",
    "X is equal to Y   \n",
    "Sample Output 3\n",
    "\n",
    "X is less than Y  "
   ]
  },
  {
   "cell_type": "code",
   "execution_count": null,
   "metadata": {},
   "outputs": [],
   "source": [
    "#!/bin/bash\n",
    "\n",
    "read X\n",
    "read Y\n",
    "\n",
    "if [ \"$X\" -eq \"$Y\" ]; then\n",
    "    echo \"X is equal to Y\"\n",
    "elif [ \"$X\" -lt \"$Y\" ]; then\n",
    "    echo \"X is less than Y\"\n",
    "else\n",
    "    echo \"X is greater than Y\"\n",
    "fi"
   ]
  },
  {
   "cell_type": "markdown",
   "metadata": {},
   "source": [
    "_______________________________________________________________________________________________________________________________________"
   ]
  },
  {
   "cell_type": "markdown",
   "metadata": {},
   "source": [
    "2"
   ]
  },
  {
   "cell_type": "markdown",
   "metadata": {},
   "source": [
    "Read in one character from STDIN.\n",
    "If the character is 'Y' or 'y' display \"YES\".\n",
    "If the character is 'N' or 'n' display \"NO\".\n",
    "No other character will be provided as input.\n",
    "\n",
    "Input Format\n",
    "\n",
    "One character\n",
    "\n",
    "Constraints\n",
    "\n",
    "The character will be from the set .\n",
    "\n",
    "Output Format\n",
    "\n",
    "echo YES or NO to STDOUT.\n",
    "\n",
    "Sample Input\n",
    "\n",
    "y  \n",
    "Sample Output\n",
    "\n",
    "YES"
   ]
  },
  {
   "cell_type": "code",
   "execution_count": null,
   "metadata": {},
   "outputs": [],
   "source": [
    "#!/bin/bash\n",
    "\n",
    "read char\n",
    "\n",
    "# should use [[ for logical operations and string comparisons.\n",
    "# The regex operator =~ allows for pattern matching.\n",
    "if [[ \"$char\" =~ ^[Nn]$ ]]; then\n",
    "    echo \"NO\"\n",
    "fi\n",
    "\n",
    "# ^ asserts the position at the start of the string.\n",
    "# $ asserts the position at the end of the string.\n",
    "\n",
    "if [[ \"$char\" =~ ^[Yy]$ ]]; then\n",
    "    echo \"YES\"\n",
    "fi"
   ]
  }
 ],
 "metadata": {
  "language_info": {
   "name": "python"
  }
 },
 "nbformat": 4,
 "nbformat_minor": 2
}
