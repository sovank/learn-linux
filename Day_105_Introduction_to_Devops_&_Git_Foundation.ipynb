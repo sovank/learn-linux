{
  "nbformat": 4,
  "nbformat_minor": 0,
  "metadata": {
    "colab": {
      "provenance": [],
      "authorship_tag": "ABX9TyN7lWHcNJnYNbL0AhVJRLb2",
      "include_colab_link": true
    },
    "kernelspec": {
      "name": "python3",
      "display_name": "Python 3"
    },
    "language_info": {
      "name": "python"
    }
  },
  "cells": [
    {
      "cell_type": "markdown",
      "metadata": {
        "id": "view-in-github",
        "colab_type": "text"
      },
      "source": [
        "<a href=\"https://colab.research.google.com/github/sovank/learn-linux/blob/main/Day_105_Introduction_to_Devops_%26_Git_Foundation.ipynb\" target=\"_parent\"><img src=\"https://colab.research.google.com/assets/colab-badge.svg\" alt=\"Open In Colab\"/></a>"
      ]
    },
    {
      "cell_type": "markdown",
      "source": [
        "Let's create a commit\n",
        "\n",
        "Requirements:\n",
        "\n",
        "You need to set up this Git Repo on shell where you are attempting this assignment.\n",
        "\n",
        "You need to add some content in a file DevOps-Introduction-Assignments-Git-GitHub-and-YAML/assignments/assignment1/file.md\n",
        "\n",
        "Once the content is added, you need to create a commit with message Content Added\n",
        "\n",
        "Now you can submit your solution.\n",
        "\n",
        "Hints\n",
        "Please hit submit only after doing all tasks.\n",
        "In this assignment, No need to worry about content that needs to be added in file.md file, it can be any random content."
      ],
      "metadata": {
        "id": "5fKTRnjnirQV"
      }
    },
    {
      "cell_type": "code",
      "execution_count": null,
      "metadata": {
        "id": "oQhXOoc3in6S"
      },
      "outputs": [],
      "source": [
        "sudo apt install git -y\n",
        "\n",
        "git --version -> to check the installation is correct\n",
        "\n",
        "git clone https://github.com/scaleracademy/DevOps-Introduction-Assignments-Git-GitHub-and-YAML.git\n",
        "\n",
        "git config --global user.name \"random_name\"\n",
        "git config --global user.email \"random@gmail.com\"\n",
        "\n",
        "sudo vi DevOps-Introduction-Assignments-Git-GitHub-and-YAML/assignments/assignment1/file.md\n",
        "\n",
        "# write some data and save\n",
        "\n",
        "git add DevOps-Introduction-Assignments-Git-GitHub-and-YAML/assignments/assignment1/file.md\n",
        "\n",
        "git commit -m \"Content Added\""
      ]
    }
  ]
}