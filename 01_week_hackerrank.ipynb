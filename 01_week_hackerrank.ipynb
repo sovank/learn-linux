{
  "nbformat": 4,
  "nbformat_minor": 0,
  "metadata": {
    "colab": {
      "provenance": [],
      "authorship_tag": "ABX9TyNfca3rXeuGcV26EfPQ7YdT",
      "include_colab_link": true
    },
    "kernelspec": {
      "name": "python3",
      "display_name": "Python 3"
    },
    "language_info": {
      "name": "python"
    }
  },
  "cells": [
    {
      "cell_type": "markdown",
      "metadata": {
        "id": "view-in-github",
        "colab_type": "text"
      },
      "source": [
        "<a href=\"https://colab.research.google.com/github/sovank/learn-linux/blob/main/01_week_hackerrank.ipynb\" target=\"_parent\"><img src=\"https://colab.research.google.com/assets/colab-badge.svg\" alt=\"Open In Colab\"/></a>"
      ]
    },
    {
      "cell_type": "markdown",
      "source": [
        "# 1"
      ],
      "metadata": {
        "id": "FAmELkFT1PSC"
      }
    },
    {
      "cell_type": "markdown",
      "source": [
        "Write a bash script that prints the string \"HELLO\".\n",
        "\n",
        "Input Format\n",
        "\n",
        "There is no input file required for this problem.\n",
        "\n",
        "Output Format\n",
        "\n",
        "HELLO\n",
        "\n",
        "Sample Input\n",
        "\n",
        "-\n",
        "\n",
        "Sample Output\n",
        "\n",
        "HELLO\n",
        "\n",
        "Explanation"
      ],
      "metadata": {
        "id": "UkGdvIoN0ivT"
      }
    },
    {
      "cell_type": "code",
      "execution_count": null,
      "metadata": {
        "id": "FLxFE99W0d6T"
      },
      "outputs": [],
      "source": [
        "#!/bin/bash\n",
        "\n",
        "echo \"HELLO\""
      ]
    },
    {
      "cell_type": "markdown",
      "source": [
        "\n",
        "\n",
        "---\n",
        "\n"
      ],
      "metadata": {
        "id": "VdLCM3FP1LlS"
      }
    },
    {
      "cell_type": "markdown",
      "source": [
        "# 2"
      ],
      "metadata": {
        "id": "Ef8nn8Bl1M_y"
      }
    },
    {
      "cell_type": "markdown",
      "source": [
        "Your task is to use for loops to display only odd natural numbers from  to .\n",
        "\n",
        "Input Format\n",
        "\n",
        "There is no input.\n",
        "\n",
        "Constraints\n",
        "\n",
        "-\n",
        "\n",
        "Output Format\n",
        "\n",
        "1\n",
        "3\n",
        "5\n",
        ".\n",
        ".\n",
        ".\n",
        ".\n",
        ".\n",
        "99  \n",
        "Sample Input\n",
        "\n",
        "-\n",
        "\n",
        "Sample Output\n",
        "\n",
        "1\n",
        "3\n",
        "5\n",
        ".\n",
        ".\n",
        ".\n",
        ".\n",
        ".\n",
        "99  \n",
        "Explanation\n",
        "\n",
        "-"
      ],
      "metadata": {
        "id": "N4AmgFB71RNi"
      }
    },
    {
      "cell_type": "code",
      "source": [
        "for num in {1..99}; do\n",
        "    if [ $((num % 2)) -ne 0 ]; then\n",
        "        echo \"$num\"\n",
        "    fi\n",
        "done"
      ],
      "metadata": {
        "id": "VXhxdS3m1MeY"
      },
      "execution_count": null,
      "outputs": []
    },
    {
      "cell_type": "markdown",
      "source": [
        "\n",
        "\n",
        "---\n",
        "\n"
      ],
      "metadata": {
        "id": "9sD4SWSV1ZpZ"
      }
    },
    {
      "cell_type": "markdown",
      "source": [
        "# 3"
      ],
      "metadata": {
        "id": "LS09jlyX1aZK"
      }
    },
    {
      "cell_type": "markdown",
      "source": [
        "Write a Bash script which accepts  as input and displays the greeting \"Welcome (name)\"\n",
        "\n",
        "Input Format\n",
        "\n",
        "There is one line of text, .\n",
        "\n",
        "Output Format\n",
        "\n",
        "One line: \"Welcome (name)\" (quotation marks excluded).\n",
        "The evaluation will be case-sensitive.\n",
        "\n",
        "Sample Input 0\n",
        "\n",
        "Dan  \n",
        "Sample Output 0\n",
        "\n",
        "Welcome Dan  \n",
        "Sample Input 1\n",
        "\n",
        "Prashant\n",
        "Sample Output 1\n",
        "\n",
        "Welcome Prashant"
      ],
      "metadata": {
        "id": "NIcxd6rS1lrK"
      }
    },
    {
      "cell_type": "code",
      "source": [
        "#!/bin/bash\n",
        "\n",
        "read name\n",
        "echo \"Welcome $name\""
      ],
      "metadata": {
        "id": "8Rcwby401aAW"
      },
      "execution_count": null,
      "outputs": []
    },
    {
      "cell_type": "markdown",
      "source": [
        "\n",
        "\n",
        "---\n",
        "\n"
      ],
      "metadata": {
        "id": "x3rBwQYD13ZK"
      }
    },
    {
      "cell_type": "markdown",
      "source": [
        "# 4"
      ],
      "metadata": {
        "id": "3g50y3q2149y"
      }
    },
    {
      "cell_type": "markdown",
      "source": [
        "Use a for loop to display the natural numbers from  to .\n",
        "\n",
        "Input Format\n",
        "\n",
        "There is no input\n",
        "\n",
        "Output Format\n",
        "\n",
        "1\n",
        "2\n",
        "3\n",
        "4\n",
        "5\n",
        ".\n",
        ".\n",
        ".\n",
        ".\n",
        ".\n",
        "50"
      ],
      "metadata": {
        "id": "2OZzX9nl2EXa"
      }
    },
    {
      "cell_type": "code",
      "source": [
        "#!/bin/bash\n",
        "\n",
        "for num in {1..50}; do\n",
        "    echo \"$num\"\n",
        "done"
      ],
      "metadata": {
        "id": "IvYAGHR314e7"
      },
      "execution_count": null,
      "outputs": []
    },
    {
      "cell_type": "markdown",
      "source": [
        "\n",
        "\n",
        "---\n",
        "\n"
      ],
      "metadata": {
        "id": "qPvI6Op02VfR"
      }
    },
    {
      "cell_type": "markdown",
      "source": [
        "# 5"
      ],
      "metadata": {
        "id": "YNtSZqAf2X-x"
      }
    },
    {
      "cell_type": "markdown",
      "source": [
        "Given two integers,  and , find their sum, difference, product, and quotient.\n",
        "\n",
        "Input Format\n",
        "\n",
        "Two lines containing one integer each ( and , respectively).\n",
        "\n",
        "Constraints\n",
        "\n",
        "\n",
        "\n",
        "Output Format\n",
        "\n",
        "Four lines containing the sum (), difference (), product (), and quotient (), respectively.\n",
        "(While computing the quotient, print only the integer part.)\n",
        "\n",
        "Sample Input\n",
        "\n",
        "5\n",
        "2\n",
        "Sample Output\n",
        "\n",
        "7\n",
        "3\n",
        "10\n",
        "2\n",
        "Explanation\n",
        "\n",
        "5 + 2 = 7\n",
        "5 - 2 = 3\n",
        "5 * 2 = 10\n",
        "5 / 2 = 2 (Integer part)"
      ],
      "metadata": {
        "id": "6hC1We3j2bXy"
      }
    },
    {
      "cell_type": "code",
      "source": [
        "#!/bin/bash\n",
        "\n",
        "read X\n",
        "read Y\n",
        "\n",
        "echo \"$((X + Y))\"\n",
        "echo \"$((X - Y))\"\n",
        "echo \"$((X * Y))\"\n",
        "if [ $((Y)) -ne 0 ]; then\n",
        "    echo \"$((X / Y))\"\n",
        "else\n",
        "    echo 0\n",
        "fi"
      ],
      "metadata": {
        "id": "z-e_mL9x2WCI"
      },
      "execution_count": null,
      "outputs": []
    }
  ]
}