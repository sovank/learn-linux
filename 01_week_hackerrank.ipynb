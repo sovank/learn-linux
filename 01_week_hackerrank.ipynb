{
  "nbformat": 4,
  "nbformat_minor": 0,
  "metadata": {
    "colab": {
      "provenance": [],
      "authorship_tag": "ABX9TyMwy6W8QoOBJQravVGwlxZk",
      "include_colab_link": true
    },
    "kernelspec": {
      "name": "python3",
      "display_name": "Python 3"
    },
    "language_info": {
      "name": "python"
    }
  },
  "cells": [
    {
      "cell_type": "markdown",
      "metadata": {
        "id": "view-in-github",
        "colab_type": "text"
      },
      "source": [
        "<a href=\"https://colab.research.google.com/github/sovank/learn-linux/blob/main/01_week_hackerrank.ipynb\" target=\"_parent\"><img src=\"https://colab.research.google.com/assets/colab-badge.svg\" alt=\"Open In Colab\"/></a>"
      ]
    },
    {
      "cell_type": "markdown",
      "source": [
        "Write a bash script that prints the string \"HELLO\".\n",
        "\n",
        "Input Format\n",
        "\n",
        "There is no input file required for this problem.\n",
        "\n",
        "Output Format\n",
        "\n",
        "HELLO\n",
        "\n",
        "Sample Input\n",
        "\n",
        "-\n",
        "\n",
        "Sample Output\n",
        "\n",
        "HELLO\n",
        "\n",
        "Explanation"
      ],
      "metadata": {
        "id": "UkGdvIoN0ivT"
      }
    },
    {
      "cell_type": "code",
      "execution_count": null,
      "metadata": {
        "id": "FLxFE99W0d6T"
      },
      "outputs": [],
      "source": [
        "#!/bin/bash\n",
        "\n",
        "echo \"HELLO\""
      ]
    }
  ]
}