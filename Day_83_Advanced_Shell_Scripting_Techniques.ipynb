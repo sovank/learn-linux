{
  "nbformat": 4,
  "nbformat_minor": 0,
  "metadata": {
    "colab": {
      "provenance": [],
      "authorship_tag": "ABX9TyPeoa68tcQ6oncTYjPIdh1J",
      "include_colab_link": true
    },
    "kernelspec": {
      "name": "python3",
      "display_name": "Python 3"
    },
    "language_info": {
      "name": "python"
    }
  },
  "cells": [
    {
      "cell_type": "markdown",
      "metadata": {
        "id": "view-in-github",
        "colab_type": "text"
      },
      "source": [
        "<a href=\"https://colab.research.google.com/github/sovank/learn-linux/blob/main/Day_83_Advanced_Shell_Scripting_Techniques.ipynb\" target=\"_parent\"><img src=\"https://colab.research.google.com/assets/colab-badge.svg\" alt=\"Open In Colab\"/></a>"
      ]
    },
    {
      "cell_type": "markdown",
      "source": [
        "# Q15. DevOps Class - 8 Assignment - 1"
      ],
      "metadata": {
        "id": "DROTOe8Cvjxd"
      }
    },
    {
      "cell_type": "markdown",
      "source": [
        "Raw Problem\n",
        "\n",
        "Objective:\n",
        "\n",
        "The goal is to write a script in /home/user/server_health_check.sh that monitors system processes and logs memory usage. The script will accomplish the following tasks:\n",
        "\n",
        "TASK: Logging Process ID and Memory Usage\n",
        "\n",
        "The script should continuously monitor every 2 sec the system processes and log the Process ID (PID) and memory usage for each process.\n",
        "The information should be logged in the format PID_ID Memory in a file located at /home/user/health_reports/server_health.log.\n",
        "This log file will help track the memory usage of various processes over time.\n",
        "\n",
        "Expected Output:\n",
        "A file named server_health.log located in /home/user/health_reports/, which contains entries in the format PID_ID Memory for each monitored process.\n",
        "\n",
        "Sample Output:\n",
        "\n",
        "1234 45MB\n",
        "\n",
        "5678 30MB\n",
        "\n",
        "9101 100MB"
      ],
      "metadata": {
        "id": "qTtRCAvRvftu"
      }
    },
    {
      "cell_type": "code",
      "execution_count": null,
      "metadata": {
        "id": "m2mWlJsCvVAF"
      },
      "outputs": [],
      "source": [
        "#!/bin/bash\n",
        "\n",
        "server_log_file=\"/home/user/health_reports/server_health.log\"\n",
        "\n",
        "monitor_memory_usage()\n",
        "{\n",
        "        > $server_log_file\n",
        "        # empties the SERVER_HEALTH_LOG file (if it already exists) by redirecting an empty output to it.\n",
        "        # This clears out any old data, ensuring that each time the function starts, it begins with a fresh log.\n",
        "\n",
        "        while true\n",
        "        do\n",
        "                # ps is a command that shows information about active processes.\n",
        "                # -e shows information about every running process.\n",
        "                # -o pid,rss specifies the output format to include only the pid (process ID) and rss\n",
        "                ps -eo pid,rss | awk 'NR>1 {print $1, $2}' | while read -r pid rss\n",
        "                # NR>1 skips the first line (header) so only actual process information is processed.\n",
        "                # rss (Resident Set Size, the non-swapped physical memory used by the process, in kilobytes).\n",
        "                do\n",
        "                    mem_mb=$((rss/1024))\n",
        "                    echo \"$pid ${mem_mb}MB\" > $server_log_file\n",
        "                done\n",
        "\n",
        "                sleep 2\n",
        "        done\n",
        "}\n",
        "\n",
        "\n",
        "monitor_memory_usage"
      ]
    },
    {
      "cell_type": "markdown",
      "source": [
        "\\"
      ],
      "metadata": {
        "id": "16aV6k6NMSw9"
      }
    },
    {
      "cell_type": "markdown",
      "source": [
        "\n",
        "\n",
        "---\n",
        "\n"
      ],
      "metadata": {
        "id": "pYW-10h2MTn9"
      }
    },
    {
      "cell_type": "markdown",
      "source": [
        "# Q16. DevOps Class - 8 Assignment - 2"
      ],
      "metadata": {
        "id": "NMqfFT5NMUaf"
      }
    },
    {
      "cell_type": "markdown",
      "source": [
        "Objective:\n",
        "\n",
        "Optimize the previous script to alert whenever certain memory limit exceeds.\n",
        "\n",
        "Task: Alerting on Memory Usage Exceeding 20MB\n",
        "\n",
        "The script should monitor the memory usage of each process and log any process that consumes more than 20MB of memory.\n",
        "If a process exceeds 20MB of memory usage, the script should log the Process ID (PID) and memory usage in a file named /home/user/health_reports/alert.log.\n",
        "\n",
        "Only processes that exceed the 20MB threshold should be logged in the alert file. Processes below this threshold should not appear in the alert log.\n",
        "\n",
        "Expected Output:\n",
        "A file named alert.log located in /home/user/health_reports/, which logs entries in the format PID_ID Memory for processes that exceed 20MB of memory usage.\n",
        "\n",
        "Sample Output:\n",
        "\n",
        "534 23MB\n",
        "\n",
        "1129 58MB"
      ],
      "metadata": {
        "id": "pIuE8O1nMXtr"
      }
    },
    {
      "cell_type": "code",
      "source": [
        "#!/bin/bash\n",
        "\n",
        "server_log_file=\"/home/user/health_reports/server_health.log\"\n",
        "alert_log_file=\"/home/user/health_reports/alert.log\"\n",
        "\n",
        "monitor_memory_usage()\n",
        "{\n",
        "        > $server_log_file\n",
        "        > $alert_log_file\n",
        "        # empties the SERVER_HEALTH_LOG and alert_log_file (if it already exists) by redirecting an empty output to it.\n",
        "        # This clears out any old data, ensuring that each time the function starts, it begins with a fresh log.\n",
        "\n",
        "        while true\n",
        "        do\n",
        "                # ps is a command that shows information about active processes.\n",
        "                # -e shows information about every running process.\n",
        "                # -o pid,rss specifies the output format to include only the pid (process ID) and rss\n",
        "                ps -eo pid,rss | awk 'NR>1 {print $1, $2}' | while read -r pid rss\n",
        "                # NR>1 skips the first line (header) so only actual process information is processed.\n",
        "                # rss (Resident Set Size, the non-swapped physical memory used by the process, in kilobytes).\n",
        "                do\n",
        "                        mem_mb=$((rss/1024))\n",
        "                        echo \"$pid ${mem_mb}MB\" >> $server_log_file\n",
        "\n",
        "                        if [ ${mem_mb} -gt 20 ]\n",
        "                        then\n",
        "                                echo \"$pid ${mem_mb}MB\" >> $alert_log_file\n",
        "                        fi\n",
        "                done\n",
        "\n",
        "                sleep 2\n",
        "        done\n",
        "}\n",
        "\n",
        "monitor_memory_usage # very important to call the function"
      ],
      "metadata": {
        "id": "fFrrreqAMTOG"
      },
      "execution_count": null,
      "outputs": []
    }
  ]
}