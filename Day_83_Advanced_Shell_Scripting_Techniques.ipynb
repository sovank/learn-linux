{
  "nbformat": 4,
  "nbformat_minor": 0,
  "metadata": {
    "colab": {
      "provenance": [],
      "authorship_tag": "ABX9TyO3fXKGT8E+F2ohdKjTfkBm",
      "include_colab_link": true
    },
    "kernelspec": {
      "name": "python3",
      "display_name": "Python 3"
    },
    "language_info": {
      "name": "python"
    }
  },
  "cells": [
    {
      "cell_type": "markdown",
      "metadata": {
        "id": "view-in-github",
        "colab_type": "text"
      },
      "source": [
        "<a href=\"https://colab.research.google.com/github/sovank/learn-linux/blob/main/Day_83_Advanced_Shell_Scripting_Techniques.ipynb\" target=\"_parent\"><img src=\"https://colab.research.google.com/assets/colab-badge.svg\" alt=\"Open In Colab\"/></a>"
      ]
    },
    {
      "cell_type": "markdown",
      "source": [
        "# Q15. DevOps Class - 8 Assignment - 1"
      ],
      "metadata": {
        "id": "DROTOe8Cvjxd"
      }
    },
    {
      "cell_type": "markdown",
      "source": [
        "Raw Problem\n",
        "\n",
        "Objective:\n",
        "\n",
        "The goal is to write a script in /home/user/server_health_check.sh that monitors system processes and logs memory usage. The script will accomplish the following tasks:\n",
        "\n",
        "TASK: Logging Process ID and Memory Usage\n",
        "\n",
        "The script should continuously monitor every 2 sec the system processes and log the Process ID (PID) and memory usage for each process.\n",
        "The information should be logged in the format PID_ID Memory in a file located at /home/user/health_reports/server_health.log.\n",
        "This log file will help track the memory usage of various processes over time.\n",
        "\n",
        "Expected Output:\n",
        "A file named server_health.log located in /home/user/health_reports/, which contains entries in the format PID_ID Memory for each monitored process.\n",
        "\n",
        "Sample Output:\n",
        "\n",
        "1234 45MB\n",
        "\n",
        "5678 30MB\n",
        "\n",
        "9101 100MB"
      ],
      "metadata": {
        "id": "qTtRCAvRvftu"
      }
    },
    {
      "cell_type": "code",
      "execution_count": null,
      "metadata": {
        "id": "m2mWlJsCvVAF"
      },
      "outputs": [],
      "source": [
        "#!/bin/bash\n",
        "\n",
        "server_log_file=\"/home/user/health_reports/server_health.log\"\n",
        "\n",
        "monitor_memory_usage()\n",
        "{\n",
        "        > $server_log_file\n",
        "        while true\n",
        "        do\n",
        "                # ps is a command that shows information about active processes.\n",
        "                # -e shows information about every running process.\n",
        "                # -o pid,rss specifies the output format to include only the pid (process ID) and rss\n",
        "                ps -eo pid,rss | awk 'NR>1 {print $1 $2}' | while read -r pid rss\n",
        "                # NR>1 skips the first line (header) so only actual process information is processed.\n",
        "                # rss (Resident Set Size, the non-swapped physical memory used by the process, in kilobytes).\n",
        "                do\n",
        "                mem_mb=$((rss/1024))\n",
        "                echo \"$pid ${mem_mb}MB\" > $server_log_file\n",
        "                done\n",
        "\n",
        "                sleep 2\n",
        "        done\n",
        "}\n",
        "\n",
        "\n",
        "monitor_memory_usage"
      ]
    }
  ]
}